{
 "cells": [
  {
   "cell_type": "markdown",
   "id": "f44558a7",
   "metadata": {},
   "source": [
    "# Agregacion de datos"
   ]
  },
  {
   "cell_type": "code",
   "execution_count": 1,
   "id": "1a672647",
   "metadata": {},
   "outputs": [],
   "source": [
    "import numpy as np\n",
    "import pandas as pd"
   ]
  },
  {
   "cell_type": "code",
   "execution_count": 2,
   "id": "b5897486",
   "metadata": {},
   "outputs": [],
   "source": [
    "gender = [\"Male\",\"Female\"] #Genero\n",
    "income = [\"Poor\", \"Middle Class\", \"Rich\"] #Clase social"
   ]
  },
  {
   "cell_type": "code",
   "execution_count": null,
   "id": "8e70aab9",
   "metadata": {},
   "outputs": [],
   "source": [
    "n = 500\n",
    "\n",
    "gender_data = [] #Array vacio para el genero\n",
    "income_data = [] #Array vacio para la clase social\n",
    "\n",
    "for i in range(0,n):\n",
    "    gender_data.append(np.random.choice(gender))#generar un valor aleatorio para genero\n",
    "    income_data.append(np.random.choice(income))#generar un valor aleatorio para la clase social\n",
    "    "
   ]
  },
  {
   "cell_type": "code",
   "execution_count": null,
   "id": "e67b6b7a",
   "metadata": {},
   "outputs": [],
   "source": []
  }
 ],
 "metadata": {
  "kernelspec": {
   "display_name": "Python 3 (ipykernel)",
   "language": "python",
   "name": "python3"
  },
  "language_info": {
   "codemirror_mode": {
    "name": "ipython",
    "version": 3
   },
   "file_extension": ".py",
   "mimetype": "text/x-python",
   "name": "python",
   "nbconvert_exporter": "python",
   "pygments_lexer": "ipython3",
   "version": "3.9.13"
  }
 },
 "nbformat": 4,
 "nbformat_minor": 5
}
