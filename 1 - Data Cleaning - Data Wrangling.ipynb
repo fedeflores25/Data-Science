{
 "cells": [
  {
   "cell_type": "code",
   "execution_count": 4,
   "id": "b2343ff6",
   "metadata": {},
   "outputs": [],
   "source": [
    "import pandas as pd"
   ]
  },
  {
   "cell_type": "markdown",
   "id": "904a3ff6",
   "metadata": {},
   "source": [
    "# DATA WRANGLING - CIRUGIA DE DATOS "
   ]
  },
  {
   "cell_type": "markdown",
   "id": "cd14006e",
   "metadata": {},
   "source": [
    "al read_csv le agregue un campo sep=\";\" hay que aclarar el separador porque nativamente el read_cvs toma la coma como separador"
   ]
  },
  {
   "cell_type": "code",
   "execution_count": 5,
   "id": "7159458f",
   "metadata": {},
   "outputs": [],
   "source": [
    "data = pd.read_csv(\"C://Users/20385265035/Desktop/Proyectos de Python/datasets/PCLConComunas.txt\",sep=\";\")"
   ]
  },
  {
   "cell_type": "code",
   "execution_count": 6,
   "id": "a4927d55",
   "metadata": {
    "scrolled": true
   },
   "outputs": [
    {
     "data": {
      "text/html": [
       "<div>\n",
       "<style scoped>\n",
       "    .dataframe tbody tr th:only-of-type {\n",
       "        vertical-align: middle;\n",
       "    }\n",
       "\n",
       "    .dataframe tbody tr th {\n",
       "        vertical-align: top;\n",
       "    }\n",
       "\n",
       "    .dataframe thead th {\n",
       "        text-align: right;\n",
       "    }\n",
       "</style>\n",
       "<table border=\"1\" class=\"dataframe\">\n",
       "  <thead>\n",
       "    <tr style=\"text-align: right;\">\n",
       "      <th></th>\n",
       "      <th>ID_REGISTRO</th>\n",
       "      <th>EXPEDIENTE_PSOC</th>\n",
       "      <th>ANIO_RIB</th>\n",
       "      <th>NUMERO_RIB</th>\n",
       "      <th>NUMERO_DOCUMENTO</th>\n",
       "      <th>CUIL</th>\n",
       "      <th>APELLIDO</th>\n",
       "      <th>NOMBRE</th>\n",
       "      <th>COMUNA</th>\n",
       "      <th>FK_TIPO_DOMICILIO</th>\n",
       "      <th>BARRIO</th>\n",
       "      <th>DESCRIPCION_COMUNA</th>\n",
       "      <th>ID_COMUNA</th>\n",
       "      <th>FK_BARRIO</th>\n",
       "      <th>DESCRIPCION_SIS_BARRIO</th>\n",
       "      <th>DESCRIPCION_CORTA</th>\n",
       "      <th>ID_BARRIO</th>\n",
       "    </tr>\n",
       "  </thead>\n",
       "  <tbody>\n",
       "    <tr>\n",
       "      <th>0</th>\n",
       "      <td>1091700</td>\n",
       "      <td>EX-2022-35077150-   -GCABA-DGDCC</td>\n",
       "      <td>2017</td>\n",
       "      <td>27006780</td>\n",
       "      <td>47167378</td>\n",
       "      <td>NaN</td>\n",
       "      <td>PETRENKO</td>\n",
       "      <td>SASHA</td>\n",
       "      <td>Comuna 1</td>\n",
       "      <td>3</td>\n",
       "      <td>San NicolÃ¡s</td>\n",
       "      <td>Comuna 1</td>\n",
       "      <td>3.0</td>\n",
       "      <td>32.0</td>\n",
       "      <td>San NicolÃ¡s</td>\n",
       "      <td>NaN</td>\n",
       "      <td>32.0</td>\n",
       "    </tr>\n",
       "    <tr>\n",
       "      <th>1</th>\n",
       "      <td>1089273</td>\n",
       "      <td>EX-2022-33351911-   -GCABA-DGDCC</td>\n",
       "      <td>2017</td>\n",
       "      <td>27004375</td>\n",
       "      <td>47277029</td>\n",
       "      <td>NaN</td>\n",
       "      <td>COLSO</td>\n",
       "      <td>GASTON ARIEL</td>\n",
       "      <td>Comuna 1</td>\n",
       "      <td>3</td>\n",
       "      <td>San NicolÃ¡s</td>\n",
       "      <td>Comuna 1</td>\n",
       "      <td>3.0</td>\n",
       "      <td>32.0</td>\n",
       "      <td>San NicolÃ¡s</td>\n",
       "      <td>NaN</td>\n",
       "      <td>32.0</td>\n",
       "    </tr>\n",
       "    <tr>\n",
       "      <th>2</th>\n",
       "      <td>1434922</td>\n",
       "      <td>EX-2022-36342896-   -GCABA-DGDCC</td>\n",
       "      <td>2022</td>\n",
       "      <td>27093433</td>\n",
       "      <td>22125866</td>\n",
       "      <td>2.022126e+10</td>\n",
       "      <td>TARANTINO</td>\n",
       "      <td>ANGEL</td>\n",
       "      <td>Comuna 1</td>\n",
       "      <td>1</td>\n",
       "      <td>Monserrat</td>\n",
       "      <td>NaN</td>\n",
       "      <td>NaN</td>\n",
       "      <td>NaN</td>\n",
       "      <td>NaN</td>\n",
       "      <td>NaN</td>\n",
       "      <td>NaN</td>\n",
       "    </tr>\n",
       "    <tr>\n",
       "      <th>3</th>\n",
       "      <td>1453226</td>\n",
       "      <td>EX-2022-37612807-   -GCABA-DGDCC</td>\n",
       "      <td>2022</td>\n",
       "      <td>37611349</td>\n",
       "      <td>17849160</td>\n",
       "      <td>2.717849e+10</td>\n",
       "      <td>VEGA</td>\n",
       "      <td>SANDRA MIRIAM</td>\n",
       "      <td>Comuna 1</td>\n",
       "      <td>1</td>\n",
       "      <td>Monserrat</td>\n",
       "      <td>NaN</td>\n",
       "      <td>NaN</td>\n",
       "      <td>NaN</td>\n",
       "      <td>NaN</td>\n",
       "      <td>NaN</td>\n",
       "      <td>NaN</td>\n",
       "    </tr>\n",
       "    <tr>\n",
       "      <th>4</th>\n",
       "      <td>1454276</td>\n",
       "      <td>EX-2022-38324657-   -GCABA-DGDCC</td>\n",
       "      <td>2022</td>\n",
       "      <td>38323456</td>\n",
       "      <td>46758907</td>\n",
       "      <td>2.046759e+10</td>\n",
       "      <td>LUNA</td>\n",
       "      <td>PABLO</td>\n",
       "      <td>Comuna 1</td>\n",
       "      <td>1</td>\n",
       "      <td>Constitucion</td>\n",
       "      <td>NaN</td>\n",
       "      <td>NaN</td>\n",
       "      <td>NaN</td>\n",
       "      <td>NaN</td>\n",
       "      <td>NaN</td>\n",
       "      <td>NaN</td>\n",
       "    </tr>\n",
       "  </tbody>\n",
       "</table>\n",
       "</div>"
      ],
      "text/plain": [
       "   ID_REGISTRO                   EXPEDIENTE_PSOC  ANIO_RIB  NUMERO_RIB  \\\n",
       "0      1091700  EX-2022-35077150-   -GCABA-DGDCC      2017    27006780   \n",
       "1      1089273  EX-2022-33351911-   -GCABA-DGDCC      2017    27004375   \n",
       "2      1434922  EX-2022-36342896-   -GCABA-DGDCC      2022    27093433   \n",
       "3      1453226  EX-2022-37612807-   -GCABA-DGDCC      2022    37611349   \n",
       "4      1454276  EX-2022-38324657-   -GCABA-DGDCC      2022    38323456   \n",
       "\n",
       "   NUMERO_DOCUMENTO          CUIL   APELLIDO         NOMBRE    COMUNA  \\\n",
       "0          47167378           NaN   PETRENKO          SASHA  Comuna 1   \n",
       "1          47277029           NaN      COLSO   GASTON ARIEL  Comuna 1   \n",
       "2          22125866  2.022126e+10  TARANTINO          ANGEL  Comuna 1   \n",
       "3          17849160  2.717849e+10       VEGA  SANDRA MIRIAM  Comuna 1   \n",
       "4          46758907  2.046759e+10       LUNA          PABLO  Comuna 1   \n",
       "\n",
       "   FK_TIPO_DOMICILIO        BARRIO DESCRIPCION_COMUNA  ID_COMUNA  FK_BARRIO  \\\n",
       "0                  3  San NicolÃ¡s           Comuna 1        3.0       32.0   \n",
       "1                  3  San NicolÃ¡s           Comuna 1        3.0       32.0   \n",
       "2                  1     Monserrat                NaN        NaN        NaN   \n",
       "3                  1     Monserrat                NaN        NaN        NaN   \n",
       "4                  1  Constitucion                NaN        NaN        NaN   \n",
       "\n",
       "  DESCRIPCION_SIS_BARRIO DESCRIPCION_CORTA  ID_BARRIO  \n",
       "0           San NicolÃ¡s               NaN       32.0  \n",
       "1           San NicolÃ¡s               NaN       32.0  \n",
       "2                    NaN               NaN        NaN  \n",
       "3                    NaN               NaN        NaN  \n",
       "4                    NaN               NaN        NaN  "
      ]
     },
     "execution_count": 6,
     "metadata": {},
     "output_type": "execute_result"
    }
   ],
   "source": [
    "data.head()"
   ]
  },
  {
   "cell_type": "code",
   "execution_count": null,
   "id": "47169d3f",
   "metadata": {},
   "outputs": [],
   "source": [
    "#el nombre de la colummna tiene que ser el exacto"
   ]
  },
  {
   "cell_type": "markdown",
   "id": "d1215fbb",
   "metadata": {},
   "source": [
    "# Crear un subconjunto de datos"
   ]
  },
  {
   "cell_type": "code",
   "execution_count": 7,
   "id": "d44498aa",
   "metadata": {},
   "outputs": [],
   "source": [
    "id_registro = data[['ID_REGISTRO',\"EXPEDIENTE_PSOC\"]]"
   ]
  },
  {
   "cell_type": "code",
   "execution_count": 9,
   "id": "578ceff3",
   "metadata": {},
   "outputs": [
    {
     "data": {
      "text/html": [
       "<div>\n",
       "<style scoped>\n",
       "    .dataframe tbody tr th:only-of-type {\n",
       "        vertical-align: middle;\n",
       "    }\n",
       "\n",
       "    .dataframe tbody tr th {\n",
       "        vertical-align: top;\n",
       "    }\n",
       "\n",
       "    .dataframe thead th {\n",
       "        text-align: right;\n",
       "    }\n",
       "</style>\n",
       "<table border=\"1\" class=\"dataframe\">\n",
       "  <thead>\n",
       "    <tr style=\"text-align: right;\">\n",
       "      <th></th>\n",
       "      <th>ID_REGISTRO</th>\n",
       "      <th>EXPEDIENTE_PSOC</th>\n",
       "    </tr>\n",
       "  </thead>\n",
       "  <tbody>\n",
       "    <tr>\n",
       "      <th>0</th>\n",
       "      <td>1091700</td>\n",
       "      <td>EX-2022-35077150-   -GCABA-DGDCC</td>\n",
       "    </tr>\n",
       "    <tr>\n",
       "      <th>1</th>\n",
       "      <td>1089273</td>\n",
       "      <td>EX-2022-33351911-   -GCABA-DGDCC</td>\n",
       "    </tr>\n",
       "    <tr>\n",
       "      <th>2</th>\n",
       "      <td>1434922</td>\n",
       "      <td>EX-2022-36342896-   -GCABA-DGDCC</td>\n",
       "    </tr>\n",
       "    <tr>\n",
       "      <th>3</th>\n",
       "      <td>1453226</td>\n",
       "      <td>EX-2022-37612807-   -GCABA-DGDCC</td>\n",
       "    </tr>\n",
       "    <tr>\n",
       "      <th>4</th>\n",
       "      <td>1454276</td>\n",
       "      <td>EX-2022-38324657-   -GCABA-DGDCC</td>\n",
       "    </tr>\n",
       "  </tbody>\n",
       "</table>\n",
       "</div>"
      ],
      "text/plain": [
       "   ID_REGISTRO                   EXPEDIENTE_PSOC\n",
       "0      1091700  EX-2022-35077150-   -GCABA-DGDCC\n",
       "1      1089273  EX-2022-33351911-   -GCABA-DGDCC\n",
       "2      1434922  EX-2022-36342896-   -GCABA-DGDCC\n",
       "3      1453226  EX-2022-37612807-   -GCABA-DGDCC\n",
       "4      1454276  EX-2022-38324657-   -GCABA-DGDCC"
      ]
     },
     "execution_count": 9,
     "metadata": {},
     "output_type": "execute_result"
    }
   ],
   "source": [
    "id_registro.head()"
   ]
  },
  {
   "cell_type": "code",
   "execution_count": 10,
   "id": "4589c595",
   "metadata": {},
   "outputs": [
    {
     "data": {
      "text/plain": [
       "pandas.core.frame.DataFrame"
      ]
     },
     "execution_count": 10,
     "metadata": {},
     "output_type": "execute_result"
    }
   ],
   "source": [
    "type(id_registro)"
   ]
  },
  {
   "cell_type": "code",
   "execution_count": 11,
   "id": "ddc88685",
   "metadata": {},
   "outputs": [],
   "source": [
    "subset = data[['EXPEDIENTE_PSOC','ANIO_RIB','NUMERO_DOCUMENTO','NOMBRE']]"
   ]
  },
  {
   "cell_type": "code",
   "execution_count": 12,
   "id": "952a1c38",
   "metadata": {
    "scrolled": false
   },
   "outputs": [
    {
     "data": {
      "text/html": [
       "<div>\n",
       "<style scoped>\n",
       "    .dataframe tbody tr th:only-of-type {\n",
       "        vertical-align: middle;\n",
       "    }\n",
       "\n",
       "    .dataframe tbody tr th {\n",
       "        vertical-align: top;\n",
       "    }\n",
       "\n",
       "    .dataframe thead th {\n",
       "        text-align: right;\n",
       "    }\n",
       "</style>\n",
       "<table border=\"1\" class=\"dataframe\">\n",
       "  <thead>\n",
       "    <tr style=\"text-align: right;\">\n",
       "      <th></th>\n",
       "      <th>EXPEDIENTE_PSOC</th>\n",
       "      <th>ANIO_RIB</th>\n",
       "      <th>NUMERO_DOCUMENTO</th>\n",
       "      <th>NOMBRE</th>\n",
       "    </tr>\n",
       "  </thead>\n",
       "  <tbody>\n",
       "    <tr>\n",
       "      <th>0</th>\n",
       "      <td>EX-2022-35077150-   -GCABA-DGDCC</td>\n",
       "      <td>2017</td>\n",
       "      <td>47167378</td>\n",
       "      <td>SASHA</td>\n",
       "    </tr>\n",
       "    <tr>\n",
       "      <th>1</th>\n",
       "      <td>EX-2022-33351911-   -GCABA-DGDCC</td>\n",
       "      <td>2017</td>\n",
       "      <td>47277029</td>\n",
       "      <td>GASTON ARIEL</td>\n",
       "    </tr>\n",
       "    <tr>\n",
       "      <th>2</th>\n",
       "      <td>EX-2022-36342896-   -GCABA-DGDCC</td>\n",
       "      <td>2022</td>\n",
       "      <td>22125866</td>\n",
       "      <td>ANGEL</td>\n",
       "    </tr>\n",
       "    <tr>\n",
       "      <th>3</th>\n",
       "      <td>EX-2022-37612807-   -GCABA-DGDCC</td>\n",
       "      <td>2022</td>\n",
       "      <td>17849160</td>\n",
       "      <td>SANDRA MIRIAM</td>\n",
       "    </tr>\n",
       "    <tr>\n",
       "      <th>4</th>\n",
       "      <td>EX-2022-38324657-   -GCABA-DGDCC</td>\n",
       "      <td>2022</td>\n",
       "      <td>46758907</td>\n",
       "      <td>PABLO</td>\n",
       "    </tr>\n",
       "  </tbody>\n",
       "</table>\n",
       "</div>"
      ],
      "text/plain": [
       "                    EXPEDIENTE_PSOC  ANIO_RIB  NUMERO_DOCUMENTO         NOMBRE\n",
       "0  EX-2022-35077150-   -GCABA-DGDCC      2017          47167378          SASHA\n",
       "1  EX-2022-33351911-   -GCABA-DGDCC      2017          47277029   GASTON ARIEL\n",
       "2  EX-2022-36342896-   -GCABA-DGDCC      2022          22125866          ANGEL\n",
       "3  EX-2022-37612807-   -GCABA-DGDCC      2022          17849160  SANDRA MIRIAM\n",
       "4  EX-2022-38324657-   -GCABA-DGDCC      2022          46758907          PABLO"
      ]
     },
     "execution_count": 12,
     "metadata": {},
     "output_type": "execute_result"
    }
   ],
   "source": [
    "subset.head()"
   ]
  },
  {
   "cell_type": "markdown",
   "id": "2ca81b16",
   "metadata": {},
   "source": [
    "Creo una variable  en la que almaceno los valores de las columnas que requiero y creo el subset a partir de esa variable"
   ]
  },
  {
   "cell_type": "code",
   "execution_count": 18,
   "id": "22c851d0",
   "metadata": {},
   "outputs": [
    {
     "data": {
      "text/html": [
       "<div>\n",
       "<style scoped>\n",
       "    .dataframe tbody tr th:only-of-type {\n",
       "        vertical-align: middle;\n",
       "    }\n",
       "\n",
       "    .dataframe tbody tr th {\n",
       "        vertical-align: top;\n",
       "    }\n",
       "\n",
       "    .dataframe thead th {\n",
       "        text-align: right;\n",
       "    }\n",
       "</style>\n",
       "<table border=\"1\" class=\"dataframe\">\n",
       "  <thead>\n",
       "    <tr style=\"text-align: right;\">\n",
       "      <th></th>\n",
       "      <th>NOMBRE</th>\n",
       "      <th>APELLIDO</th>\n",
       "      <th>COMUNA</th>\n",
       "      <th>BARRIO</th>\n",
       "    </tr>\n",
       "  </thead>\n",
       "  <tbody>\n",
       "    <tr>\n",
       "      <th>0</th>\n",
       "      <td>SASHA</td>\n",
       "      <td>PETRENKO</td>\n",
       "      <td>Comuna 1</td>\n",
       "      <td>San NicolÃ¡s</td>\n",
       "    </tr>\n",
       "    <tr>\n",
       "      <th>1</th>\n",
       "      <td>GASTON ARIEL</td>\n",
       "      <td>COLSO</td>\n",
       "      <td>Comuna 1</td>\n",
       "      <td>San NicolÃ¡s</td>\n",
       "    </tr>\n",
       "    <tr>\n",
       "      <th>2</th>\n",
       "      <td>ANGEL</td>\n",
       "      <td>TARANTINO</td>\n",
       "      <td>Comuna 1</td>\n",
       "      <td>Monserrat</td>\n",
       "    </tr>\n",
       "    <tr>\n",
       "      <th>3</th>\n",
       "      <td>SANDRA MIRIAM</td>\n",
       "      <td>VEGA</td>\n",
       "      <td>Comuna 1</td>\n",
       "      <td>Monserrat</td>\n",
       "    </tr>\n",
       "    <tr>\n",
       "      <th>4</th>\n",
       "      <td>PABLO</td>\n",
       "      <td>LUNA</td>\n",
       "      <td>Comuna 1</td>\n",
       "      <td>Constitucion</td>\n",
       "    </tr>\n",
       "  </tbody>\n",
       "</table>\n",
       "</div>"
      ],
      "text/plain": [
       "          NOMBRE   APELLIDO    COMUNA        BARRIO\n",
       "0          SASHA   PETRENKO  Comuna 1  San NicolÃ¡s\n",
       "1   GASTON ARIEL      COLSO  Comuna 1  San NicolÃ¡s\n",
       "2          ANGEL  TARANTINO  Comuna 1     Monserrat\n",
       "3  SANDRA MIRIAM       VEGA  Comuna 1     Monserrat\n",
       "4          PABLO       LUNA  Comuna 1  Constitucion"
      ]
     },
     "execution_count": 18,
     "metadata": {},
     "output_type": "execute_result"
    }
   ],
   "source": [
    "desired_columns = ['NOMBRE','APELLIDO','COMUNA','BARRIO']\n",
    "subset = data[desired_columns]\n",
    "subset.head()"
   ]
  },
  {
   "cell_type": "code",
   "execution_count": 21,
   "id": "e980f7ae",
   "metadata": {},
   "outputs": [
    {
     "data": {
      "text/plain": [
       "['ID_REGISTRO',\n",
       " 'EXPEDIENTE_PSOC',\n",
       " 'ANIO_RIB',\n",
       " 'NUMERO_RIB',\n",
       " 'NUMERO_DOCUMENTO',\n",
       " 'CUIL',\n",
       " 'APELLIDO',\n",
       " 'NOMBRE',\n",
       " 'COMUNA',\n",
       " 'FK_TIPO_DOMICILIO',\n",
       " 'BARRIO',\n",
       " 'DESCRIPCION_COMUNA',\n",
       " 'ID_COMUNA',\n",
       " 'FK_BARRIO',\n",
       " 'DESCRIPCION_SIS_BARRIO',\n",
       " 'DESCRIPCION_CORTA',\n",
       " 'ID_BARRIO']"
      ]
     },
     "execution_count": 21,
     "metadata": {},
     "output_type": "execute_result"
    }
   ],
   "source": [
    "all_columns_list = data.columns.values.tolist()\n",
    "all_columns_list"
   ]
  },
  {
   "cell_type": "markdown",
   "id": "aa44fab7",
   "metadata": {},
   "source": [
    "En desired_columns tengo las columnas deseadas y con el for y el if puedo obtener las columnas que no quiero que esten en el conjunto o las columnas que si quiero que esten depende de lo que se ingrese en desired_columns."
   ]
  },
  {
   "cell_type": "code",
   "execution_count": 22,
   "id": "7877c87a",
   "metadata": {},
   "outputs": [
    {
     "data": {
      "text/plain": [
       "['ID_REGISTRO',\n",
       " 'EXPEDIENTE_PSOC',\n",
       " 'ANIO_RIB',\n",
       " 'NUMERO_RIB',\n",
       " 'NUMERO_DOCUMENTO',\n",
       " 'CUIL',\n",
       " 'FK_TIPO_DOMICILIO',\n",
       " 'DESCRIPCION_COMUNA',\n",
       " 'ID_COMUNA',\n",
       " 'FK_BARRIO',\n",
       " 'DESCRIPCION_SIS_BARRIO',\n",
       " 'DESCRIPCION_CORTA',\n",
       " 'ID_BARRIO']"
      ]
     },
     "execution_count": 22,
     "metadata": {},
     "output_type": "execute_result"
    }
   ],
   "source": [
    "sublist = [x for x in all_columns_list if x not in desired_columns]\n",
    "sublist"
   ]
  },
  {
   "cell_type": "markdown",
   "id": "00fa3377",
   "metadata": {},
   "source": [
    "Otra forma de hacer lo mismo"
   ]
  },
  {
   "cell_type": "code",
   "execution_count": 24,
   "id": "bb237735",
   "metadata": {},
   "outputs": [
    {
     "data": {
      "text/plain": [
       "['DESCRIPCION_CORTA',\n",
       " 'DESCRIPCION_COMUNA',\n",
       " 'ID_BARRIO',\n",
       " 'ANIO_RIB',\n",
       " 'EXPEDIENTE_PSOC',\n",
       " 'ID_REGISTRO',\n",
       " 'CUIL',\n",
       " 'FK_TIPO_DOMICILIO',\n",
       " 'DESCRIPCION_SIS_BARRIO',\n",
       " 'NUMERO_DOCUMENTO',\n",
       " 'NUMERO_RIB',\n",
       " 'FK_BARRIO',\n",
       " 'ID_COMUNA']"
      ]
     },
     "execution_count": 24,
     "metadata": {},
     "output_type": "execute_result"
    }
   ],
   "source": [
    "a = set(desired_columns)\n",
    "b = set(all_columns_list)\n",
    "sublist = b-a\n",
    "sublist = list(sublist)\n",
    "sublist"
   ]
  },
  {
   "cell_type": "code",
   "execution_count": null,
   "id": "4731e25b",
   "metadata": {},
   "outputs": [],
   "source": []
  }
 ],
 "metadata": {
  "kernelspec": {
   "display_name": "Python 3 (ipykernel)",
   "language": "python",
   "name": "python3"
  },
  "language_info": {
   "codemirror_mode": {
    "name": "ipython",
    "version": 3
   },
   "file_extension": ".py",
   "mimetype": "text/x-python",
   "name": "python",
   "nbconvert_exporter": "python",
   "pygments_lexer": "ipython3",
   "version": "3.9.13"
  }
 },
 "nbformat": 4,
 "nbformat_minor": 5
}
